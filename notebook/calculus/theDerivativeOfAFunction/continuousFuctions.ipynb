{
 "cells": [
  {
   "cell_type": "markdown",
   "metadata": {},
   "source": [
    "# Continuous Function and the mean value theorem\n",
    "\n",
    "> A function is called a __continuous function__ if it is continuous at every point in its domain.\n",
    "\n",
    "## Definition\n",
    "$$\n",
    "\\lim_{x \\to a} f(x) = f(a)\n",
    "$$\n",
    "\n",
    "* Assert $x - a \\to 0$ and assume $\\Delta{x} = x - a$, so $a = x - \\Delta{x}$\n",
    "* And $$\\lim_{x \\to a} f(x) - \\lim_{x - a} f(a) = 0$$\n",
    "    - $$\\lim_{\\Delta{x} \\to 0} f(x) - \\lim_{\\Delta{x} \\to 0} f(x - \\Delta{x}) = 0$$\n",
    "    - assume $x = x + \\Delta{x}$, then $$\\lim_{\\Delta{x} \\to 0} f(x + \\Delta{x}) - \\lim_{\\Delta{x} \\to 0} f(x) = 0$$\n",
    "* So $$\\lim_{\\Delta{x} \\to 0} [f(x + \\Delta{x}) -  f(x)] = 0$$\n",
    "\n",
    "## To zero\n",
    "* $$\\lim_{\\Delta{x} \\to 0} [f(x + \\Delta{x}) -  f(x)] = 0$$\n",
    "* $$\\lim_{\\Delta{x} \\to 0} \\Delta{y} = 0$$\n",
    "* $$\\lim_{\\Delta{x} \\to 0} \\Delta{y} \\cdot \\frac{\\Delta{x}}{\\Delta{x}} = 0$$\n",
    "* $$\\lim_{\\Delta{x} \\to 0} \\frac{\\Delta{y}}{\\Delta{x}} \\cdot \\Delta{x} = 0$$\n",
    "* $$\\lim_{\\Delta{x} \\to 0} \\frac{\\Delta{y}}{\\Delta{x}} \\cdot \\lim_{\\Delta{x} \\to 0} \\Delta{x} = 0$$\n",
    "* Assert $$\\lim_{\\Delta{x} \\to 0} \\frac{\\Delta{y}}{\\Delta{x}} = \\frac{dy}{dx}$$ and $$lim_{\\Delta{x} \\to 0} \\Delta{x} = 0$$\n",
    "* So $\\frac{dy}{dx} \\cdot 0 = 0$\n",
    "\n",
    "## The mean value theorem(MVT)\n",
    "\n",
    "$$\n",
    "f'(c) = \\frac{f(b) - f(a)}{b - a}\n",
    "$$\n",
    "\n",
    "## The extreme value theorem(EVT)\n",
    "\n",
    "> If $y = f(x)$ is a function that is defined and continuous on a closed interval $[a, b]$, then this function attains both a maximum value and a minimum value at points of the interval; that is, there exist points $c$ and $d$ in $[a, b]$ such that $f(c) \\ge f(x) \\ge f(d)$ for all $x$ in $[a, b]$.\n",
    "\n",
    "## The intermediate value theorem(IVT)\n",
    "\n",
    "> If $y = f(x)$ is f function that is defined and continuous on a closed interval $[a, b]$, then this function assumes every value between $f(a)$ and $f(b)$; that is, if $K$ is any number strictly between $f(a)$ and $f(b)$, then thre exists at least one point $c$ in $(a, b)$ such that $f(c) = K$.\n"
   ]
  }
 ],
 "metadata": {
  "language_info": {
   "name": "python"
  }
 },
 "nbformat": 4,
 "nbformat_minor": 2
}
