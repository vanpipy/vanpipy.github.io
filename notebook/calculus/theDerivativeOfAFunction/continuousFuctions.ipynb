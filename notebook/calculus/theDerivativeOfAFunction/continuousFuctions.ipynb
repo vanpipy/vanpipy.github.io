{
 "cells": [
  {
   "cell_type": "markdown",
   "metadata": {},
   "source": [
    "# Continuous Function and the mean value theorem\n",
    "\n",
    "> A function is called a __continuous function__ if it is continuous at every point in its domain.\n",
    "\n",
    "## Definition\n",
    "$$\\lim_{x \\to a} f(x) = f(a)$$\n",
    "\n",
    "$$\\lim_{x \\to a} f(x) - \\lim_{x - a} f(a) = 0$$\n",
    "\n",
    "Assert $x - a \\to 0$\n",
    "\n",
    "$$\\lim_{x - a \\to 0} f(x) - \\lim_{x - a \\to 0} f(a) = 0$$\n",
    "\n",
    "And assume $\\Delta{x} = x - a$, so $a = x - \\Delta{x}$, then \n",
    "\n",
    "$$\\lim_{\\Delta{x} \\to 0} f(x) - \\lim_{\\Delta{x} \\to 0} f(x - \\Delta{x}) = 0$$\n",
    "\n",
    "Assert $x = x + \\Delta{x}$, then $$\\lim_{\\Delta{x} \\to 0} f(x + \\Delta{x}) - \\lim_{\\Delta{x} \\to 0} f(x) = 0$$\n",
    "\n",
    "So $$\\lim_{\\Delta{x} \\to 0} [f(x + \\Delta{x}) -  f(x)] = 0$$\n",
    "\n",
    "The above is a great insight to review $$lim_{\\Delta{x} \\to 0} f(x) = L$$\n",
    "\n",
    "## To zero\n",
    "$$\\lim_{\\Delta{x} \\to 0} [f(x + \\Delta{x}) -  f(x)] = 0$$\n",
    "\n",
    "$$\\lim_{\\Delta{x} \\to 0} \\Delta{y} = 0$$\n",
    "\n",
    "$$\\lim_{\\Delta{x} \\to 0} \\Delta{y} \\cdot \\frac{\\Delta{x}}{\\Delta{x}} = 0$$\n",
    "\n",
    "$$\\lim_{\\Delta{x} \\to 0} \\frac{\\Delta{y}}{\\Delta{x}} \\cdot \\Delta{x} = 0$$\n",
    "\n",
    "$$\\lim_{\\Delta{x} \\to 0} \\frac{\\Delta{y}}{\\Delta{x}} \\cdot \\lim_{\\Delta{x} \\to 0} \\Delta{x} = 0$$\n",
    "\n",
    "Assert $$\\lim_{\\Delta{x} \\to 0} \\frac{\\Delta{y}}{\\Delta{x}} = \\frac{dy}{dx}$$ and $$lim_{\\Delta{x} \\to 0} \\Delta{x} = 0$$\n",
    "\n",
    "So $\\frac{dy}{dx} \\cdot 0 = 0$"
   ]
  }
 ],
 "metadata": {
  "language_info": {
   "name": "python"
  }
 },
 "nbformat": 4,
 "nbformat_minor": 2
}
