{
 "cells": [
  {
   "cell_type": "markdown",
   "metadata": {},
   "source": [
    "# The Computation Of Derivatives\n",
    "\n",
    "$$f'(x) = \\lim_{\\Delta{x} \\to 0} \\frac{f(x + \\Delta{x}) - f(x)}{\\Delta{x}}$$\n",
    "\n",
    "or equivalently,\n",
    "\n",
    "$$\\frac{dy}{dx} = \\lim_{\\Delta{x} \\to 0} \\frac{\\Delta{y}}{\\Delta{x}}$$\n",
    "\n",
    "## Musical instrument\n",
    "\n",
    "> Our goal in this phase of our work is computational skill, and needless to say, such skill comes only with practice. No one learns how to spell, or ski, or play a musical instrument, without constant practice accompanied by constant self-correction, and differentiation is no exception to this rule.\n",
    "\n",
    "1. The derivative of a constant is zero, $$\\frac{d}{dx}c = 0$$\n",
    "2. If $n$ is positive integer, then $$\\frac{d}{dx}x^n = nx^{n - 1}$$\n",
    "3. If $c$ is a constant and $u = f(x)$ is a differentiable function of $x$, then $$\\frac{d}{dx}(cu) = c\\frac{du}{dx}$$\n",
    "4. If $u = f(x)$ and $v = f(x)$ are functions of $x$, then $$\\frac{d}{dx}(u + v) = \\frac{du}{dx} + \\frac{dv}{dx}$$\n",
    "5. The product rule: $$\\frac{d}{dx}(uv) = \\frac{du}{dx}v + u\\frac{dv}{dx}$$\n",
    "6. The quotient rule: $$\\frac{d}{dx}(\\frac{u}{v}) = \\frac{\\frac{du}{dx}v - u\\frac{dv}{dx}}{v^2}$$\n",
    "7. The chain rule: $$\\frac{dy}{dx} = \\frac{dy}{du} \\cdot \\frac{du}{dx}$$\n"
   ]
  }
 ],
 "metadata": {
  "language_info": {
   "name": "python"
  }
 },
 "nbformat": 4,
 "nbformat_minor": 2
}
