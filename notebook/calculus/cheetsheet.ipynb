{
 "cells": [
  {
   "cell_type": "markdown",
   "id": "f6b5d993",
   "metadata": {},
   "source": [
    "# Cheetsheet\n",
    "\n",
    "$$\\lim_{x \\to 0} \\sin(x) = 1$$\n",
    "\n",
    "---"
   ]
  },
  {
   "cell_type": "markdown",
   "id": "92f584a9",
   "metadata": {
    "vscode": {
     "languageId": "plaintext"
    }
   },
   "source": [
    "$$\\lim_{x \\to 0} \\frac{1 - \\cos(x)}{x} = 0$$\n",
    "\n",
    "* $$\\frac{1 - \\cos(x)}{x} = \\frac{1 - \\cos(x)}{x} \\cdot \\frac{1 + \\cos(x)}{1 + \\cos(x)}$$\n",
    "* $$\\frac{1 - \\cos^{2}(x)}{x \\cdot (1 + \\cos(x))} = \\frac{\\sin^{2}(x)}{x - x \\cdot \\cos(x)}$$\n",
    "* $$\\frac{\\sin(x)}{x} \\cdot \\frac{\\sin(x)}{1 + \\cos(x)}$$\n",
    "* $$\\lim_{x \\to 0} \\frac{\\sin(x)}{x} \\cdot \\frac{\\sin(x)}{2 + \\cos(x)} = \\lim_{x \\to 0} \\frac{\\sin(x)}{x} \\cdot \\lim_{x \\to 0} \\frac{\\sin(x)}{2 + \\cos(x)}$$\n",
    "* $$\\lim_{x \\to 0} \\frac{\\sin(x)}{x} \\cdot \\lim_{x \\to 0} \\frac{\\sin(x)}{2 + \\cos(x)} = 1 * \\frac{0}{1 + 1} = 0$$\n",
    "\n",
    "---"
   ]
  },
  {
   "cell_type": "markdown",
   "id": "fe8a2677",
   "metadata": {},
   "source": [
    "$$sin(A + B) = sin(A)cos(B) + cos(A)sin(B)$$\n",
    "\n",
    "---"
   ]
  },
  {
   "cell_type": "markdown",
   "id": "f2ddfebb",
   "metadata": {},
   "source": [
    "$$cos(A + B) = cos(A)cos(B) - sin(A)sin(B)$$\n",
    "\n",
    "---"
   ]
  }
 ],
 "metadata": {
  "kernelspec": {
   "display_name": "Python 3",
   "language": "python",
   "name": "python3"
  },
  "language_info": {
   "codemirror_mode": {
    "name": "ipython",
    "version": 3
   },
   "file_extension": ".py",
   "mimetype": "text/x-python",
   "name": "python",
   "nbconvert_exporter": "python",
   "pygments_lexer": "ipython3",
   "version": "3.12.7"
  }
 },
 "nbformat": 5,
 "nbformat_minor": 9
}
